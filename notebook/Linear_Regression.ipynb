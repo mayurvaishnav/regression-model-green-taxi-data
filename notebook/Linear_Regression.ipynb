{
 "cells": [
  {
   "cell_type": "code",
   "execution_count": 1,
   "metadata": {},
   "outputs": [],
   "source": [
    "# Importing important libraries\n",
    "\n",
    "import numpy as np\n",
    "import pandas as pd\n",
    "import matplotlib\n",
    "import matplotlib.pyplot as plt\n",
    "import datetime as dt\n",
    "from math import sqrt\n",
    "from scipy import stats\n",
    "from sklearn import metrics\n",
    "from sklearn import linear_model\n",
    "from sklearn.model_selection import train_test_split\n",
    "from sklearn.model_selection import KFold\n",
    "from sklearn.model_selection import cross_val_score"
   ]
  },
  {
   "cell_type": "code",
   "execution_count": 2,
   "metadata": {},
   "outputs": [
    {
     "name": "stdout",
     "output_type": "stream",
     "text": [
      "   trip_distance  total_amount\n",
      "0           0.70           7.3\n",
      "1           3.50          15.8\n",
      "2           2.14          11.3\n",
      "3           0.03          -4.3\n",
      "4           0.03           4.3\n"
     ]
    }
   ],
   "source": [
    "# Reading the CSV file with Pandas\n",
    "# Dataset link = https://catalog.data.gov/dataset/2018-green-taxi-trip-data\n",
    "\n",
    "df = pd.read_csv(\"../data/2018_Green_Taxi_Trip_Data.csv\", skipinitialspace=True, usecols=['trip_distance', 'total_amount'])\n",
    "\n",
    "print(df.head())"
   ]
  },
  {
   "cell_type": "code",
   "execution_count": 3,
   "metadata": {},
   "outputs": [
    {
     "name": "stdout",
     "output_type": "stream",
     "text": [
      "         trip_distance  total_amount\n",
      "0                 0.70           7.3\n",
      "1                 3.50          15.8\n",
      "2                 2.14          11.3\n",
      "4                 0.03           4.3\n",
      "5                 5.63          22.3\n",
      "...                ...           ...\n",
      "8807296           7.20          23.3\n",
      "8807297           2.40          11.3\n",
      "8807298           0.60           6.3\n",
      "8807299           2.80          14.3\n",
      "8807300           1.49           8.3\n",
      "\n",
      "[8675258 rows x 2 columns]\n"
     ]
    }
   ],
   "source": [
    "# Removing the null values\n",
    "df.dropna(how = 'any')\n",
    "\n",
    "# Removing negative and zero values\n",
    "df = df[(df['trip_distance'] > 0)]\n",
    "df = df[(df['total_amount'] > 0)]\n",
    "\n",
    "print(df)"
   ]
  },
  {
   "cell_type": "code",
   "execution_count": 4,
   "metadata": {},
   "outputs": [],
   "source": [
    "# Finding the z score and removing outliers\n",
    "z_scores = stats.zscore(df)\n",
    "\n",
    "abs_z_scores = np.abs(z_scores)\n",
    "filtered_entries = (abs_z_scores < 1).all(axis=1)\n",
    "df = df[filtered_entries]"
   ]
  },
  {
   "cell_type": "code",
   "execution_count": 5,
   "metadata": {},
   "outputs": [
    {
     "name": "stdout",
     "output_type": "stream",
     "text": [
      "0          0.70\n",
      "1          3.50\n",
      "2          2.14\n",
      "4          0.03\n",
      "5          5.63\n",
      "           ... \n",
      "8807296    7.20\n",
      "8807297    2.40\n",
      "8807298    0.60\n",
      "8807299    2.80\n",
      "8807300    1.49\n",
      "Name: trip_distance, Length: 7662382, dtype: float64\n",
      "0           7.3\n",
      "1          15.8\n",
      "2          11.3\n",
      "4           4.3\n",
      "5          22.3\n",
      "           ... \n",
      "8807296    23.3\n",
      "8807297    11.3\n",
      "8807298     6.3\n",
      "8807299    14.3\n",
      "8807300     8.3\n",
      "Name: total_amount, Length: 7662382, dtype: float64\n"
     ]
    }
   ],
   "source": [
    "# Storing the required column in variables\n",
    "X = df['trip_distance']\n",
    "Y = df['total_amount']"
   ]
  },
  {
   "cell_type": "code",
   "execution_count": 6,
   "metadata": {},
   "outputs": [
    {
     "name": "stdout",
     "output_type": "stream",
     "text": [
      "[[0.7 ]\n",
      " [3.5 ]\n",
      " [2.14]\n",
      " ...\n",
      " [0.6 ]\n",
      " [2.8 ]\n",
      " [1.49]]\n",
      "[[ 7.3]\n",
      " [15.8]\n",
      " [11.3]\n",
      " ...\n",
      " [ 6.3]\n",
      " [14.3]\n",
      " [ 8.3]]\n"
     ]
    }
   ],
   "source": [
    "# Reshaping the data into required array format\n",
    "X = X.values.reshape(len(X),1)\n",
    "Y = Y.values.reshape(len(Y),1)"
   ]
  },
  {
   "cell_type": "code",
   "execution_count": 7,
   "metadata": {},
   "outputs": [
    {
     "name": "stdout",
     "output_type": "stream",
     "text": [
      "R-squared: 0.832 ( SD: 0.012 )\n"
     ]
    }
   ],
   "source": [
    "# Creating the object of kFold and Linear Regression Model\n",
    "kfold = KFold(n_splits=10)\n",
    "LR_model = linear_model.LinearRegression()\n",
    "\n",
    "# Calculating the R-squared for the model\n",
    "results = cross_val_score(LR_model, X, Y, cv=kfold, scoring='r2')\n",
    "print(\"R-squared: %.3f ( SD: %.3f )\" % (results.mean(), results.std()))"
   ]
  },
  {
   "cell_type": "code",
   "execution_count": 8,
   "metadata": {},
   "outputs": [
    {
     "name": "stdout",
     "output_type": "stream",
     "text": [
      "Negative Mean Absoulate Error: -1.676 ( SD: 0.054 )\n"
     ]
    }
   ],
   "source": [
    "# Calculating the Negative Mean Absoulate Error for the model\n",
    "results = cross_val_score(LR_model,X,Y, cv=kfold, scoring='neg_mean_absolute_error')\n",
    "print(\"Negative Mean Absoulate Error: %.3f ( SD: %.3f )\" % (results.mean(), results.std()))"
   ]
  },
  {
   "cell_type": "code",
   "execution_count": 9,
   "metadata": {},
   "outputs": [
    {
     "name": "stdout",
     "output_type": "stream",
     "text": [
      "Negative Mean Square Error: -5.387 ( SD: 0.446 )\n"
     ]
    }
   ],
   "source": [
    "# Calculating the Negative Mean Square Error for the model\n",
    "results = cross_val_score(LR_model,X,Y, cv=kfold, scoring='neg_mean_squared_error')\n",
    "print(\"Negative Mean Square Error: %.3f ( SD: %.3f )\" % (results.mean(), results.std()))"
   ]
  },
  {
   "cell_type": "code",
   "execution_count": 10,
   "metadata": {},
   "outputs": [],
   "source": [
    "# Spit features and label in train and test\n",
    "X_train, X_test, Y_train, Y_test = train_test_split(X, Y, test_size=0.0001, random_state=0)"
   ]
  },
  {
   "cell_type": "code",
   "execution_count": 11,
   "metadata": {},
   "outputs": [
    {
     "data": {
      "image/png": "[encoded data removed]",
      "text/plain": [
       "<Figure size 432x288 with 1 Axes>"
      ]
     },
     "metadata": {
      "needs_background": "light"
     },
     "output_type": "display_data"
    }
   ],
   "source": [
    "# Plot outputs MatPlotLib\n",
    "plt.scatter(X_test, Y_test,  color='black')\n",
    "plt.title('Green Taxi Trip Data (Regression Model)')\n",
    "plt.xlabel('Trip Distance(Miles)')\n",
    "plt.ylabel('Amount ($)')\n",
    "\n",
    "# Create linear regression object\n",
    "regr = linear_model.LinearRegression()\n",
    "\n",
    "# Train the model using the training sets\n",
    "regr.fit(X_train, Y_train)\n",
    "\n",
    "# Predict using testing set\n",
    "Y_pred = regr.predict(X_test)\n",
    "\n",
    "# Plot outputs\n",
    "plt.plot(X_test, Y_pred, color='red',linewidth=3)\n",
    "plt.show()"
   ]
  },
  {
   "cell_type": "code",
   "execution_count": 12,
   "metadata": {},
   "outputs": [
    {
     "name": "stdout",
     "output_type": "stream",
     "text": [
      "Intercept [5.1621418]\n",
      "Slope [[3.26358286]]\n"
     ]
    }
   ],
   "source": [
    "#Intercept of our model\n",
    "print('Intercept', regr.intercept_)\n",
    "\n",
    "#Slope of our model\n",
    "print('Slope', regr.coef_)"
   ]
  },
  {
   "cell_type": "code",
   "execution_count": 13,
   "metadata": {},
   "outputs": [
    {
     "name": "stdout",
     "output_type": "stream",
     "text": [
      "Mean Absolute Error: 1.643856682863611\n",
      "Mean Squared Error: 5.149155840495718\n",
      "Root Mean Squared Error: 2.269175145398812\n"
     ]
    }
   ],
   "source": [
    "# Calculating Mean Absolute Error\n",
    "print('Mean Absolute Error:', metrics.mean_absolute_error(Y_test, Y_pred))  \n",
    "\n",
    "# Calculating Mean Square Error\n",
    "print('Mean Squared Error:', metrics.mean_squared_error(Y_test, Y_pred))  \n",
    "\n",
    "# Calculating Root Mean Squared Error\n",
    "print('Root Mean Squared Error:', np.sqrt(metrics.mean_squared_error(Y_test, Y_pred)))"
   ]
  }
 ],
 "metadata": {
  "kernelspec": {
   "display_name": "Python 3",
   "language": "python",
   "name": "python3"
  },
  "language_info": {
   "codemirror_mode": {
    "name": "ipython",
    "version": 3
   },
   "file_extension": ".py",
   "mimetype": "text/x-python",
   "name": "python",
   "nbconvert_exporter": "python",
   "pygments_lexer": "ipython3",
   "version": "3.6.9"
  }
 },
 "nbformat": 4,
 "nbformat_minor": 4
}
